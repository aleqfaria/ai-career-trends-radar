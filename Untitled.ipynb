{
 "cells": [
  {
   "cell_type": "code",
   "execution_count": 1,
   "id": "8f186fe3-d378-42fc-9c52-8ee23c1c10f7",
   "metadata": {},
   "outputs": [
    {
     "name": "stdout",
     "output_type": "stream",
     "text": [
      "[Google Trends] Dados extraídos:\n",
      "            data engineer  data engineering  big data engineer  ai engineer  \\\n",
      "date                                                                          \n",
      "2024-06-09             21                13                  0            9   \n",
      "2024-06-16             21                14                  0            8   \n",
      "2024-06-23             22                13                  1            9   \n",
      "2024-06-30             18                12                  0            7   \n",
      "2024-07-07             22                13                  0            8   \n",
      "\n",
      "            machine learning  \n",
      "date                          \n",
      "2024-06-09                72  \n",
      "2024-06-16                67  \n",
      "2024-06-23                74  \n",
      "2024-06-30                64  \n",
      "2024-07-07                70  \n",
      "[OpenAI] Markdown salvo em: data/insights_openai_raw.md\n"
     ]
    },
    {
     "data": {
      "text/plain": [
       "'data/insights_openai_raw.md'"
      ]
     },
     "execution_count": 1,
     "metadata": {},
     "output_type": "execute_result"
    }
   ],
   "source": [
    "from etl.extract import extract_google_trends, extract_chatgpt_insights\n",
    "\n",
    "extract_google_trends()\n",
    "extract_chatgpt_insights()"
   ]
  },
  {
   "cell_type": "code",
   "execution_count": 3,
   "id": "a8b93d16-0eab-421b-9572-d4ab6549ec4c",
   "metadata": {},
   "outputs": [
    {
     "name": "stdout",
     "output_type": "stream",
     "text": [
      "                                               Cargo  \\\n",
      "0                           Cientista de Dados em IA   \n",
      "1                     Engenheiro de Machine Learning   \n",
      "2                                Engenheiro de Dados   \n",
      "3  Especialista em NLP (Processamento de Linguage...   \n",
      "4                  Engenheiro de Visão Computacional   \n",
      "\n",
      "                                           Descrição  \\\n",
      "0  Responsável por coletar, analisar e interpreta...   \n",
      "1  Desenvolve algoritmos e modelos de machine lea...   \n",
      "2  Responsável por coletar, armazenar e processar...   \n",
      "3  Desenvolve soluções de IA para compreensão e g...   \n",
      "4  Desenvolve algoritmos para análise e interpret...   \n",
      "\n",
      "                              Principais Habilidades  \\\n",
      "0  Conhecimento em machine learning, estatística,...   \n",
      "1  Conhecimento em programação, matemática, estat...   \n",
      "2  Conhecimento em big data, bancos de dados, pro...   \n",
      "3  Conhecimento em linguística, machine learning ...   \n",
      "4  Conhecimento em visão computacional, machine l...   \n",
      "\n",
      "                    Tecnologias Utilizadas          Setores com Maior Demanda  \n",
      "0           Python, R, TensorFlow, PyTorch        Tecnologia, Saúde, Finanças  \n",
      "1  Python, scikit-learn, TensorFlow, Keras  Tecnologia, E-commerce, Marketing  \n",
      "2               Hadoop, Spark, SQL, Python        Tecnologia, Finanças, Saúde  \n",
      "3                 NLTK, spaCy, BERT, GPT-3      Tecnologia, E-commerce, Mídia  \n",
      "4              OpenCV, TensorFlow, PyTorch       Tecnologia, Saúde, Segurança  \n",
      "        date  data_engineer  data_engineering  big_data_engineer  ai_engineer  \\\n",
      "0 2024-06-09             21                13                  0            9   \n",
      "1 2024-06-16             21                14                  0            8   \n",
      "2 2024-06-23             22                13                  1            9   \n",
      "3 2024-06-30             18                12                  0            7   \n",
      "4 2024-07-07             22                13                  0            8   \n",
      "\n",
      "   machine_learning  \n",
      "0                72  \n",
      "1                67  \n",
      "2                74  \n",
      "3                64  \n",
      "4                70  \n"
     ]
    }
   ],
   "source": [
    "from etl.transform import markdown_to_dataframe, transform_google_trends\n",
    "\n",
    "df_openai = markdown_to_dataframe(\"data/insights_openai_raw.md\")\n",
    "df_google = transform_google_trends(\"data/google_trends_ai_jobs.csv\")\n",
    "\n",
    "print(df_openai.head())\n",
    "print(df_google.head())"
   ]
  },
  {
   "cell_type": "code",
   "execution_count": null,
   "id": "11c239e4-9f4c-4b6c-bfa2-57983f6d5412",
   "metadata": {},
   "outputs": [],
   "source": []
  }
 ],
 "metadata": {
  "kernelspec": {
   "display_name": "Python 3 (ipykernel)",
   "language": "python",
   "name": "python3"
  },
  "language_info": {
   "codemirror_mode": {
    "name": "ipython",
    "version": 3
   },
   "file_extension": ".py",
   "mimetype": "text/x-python",
   "name": "python",
   "nbconvert_exporter": "python",
   "pygments_lexer": "ipython3",
   "version": "3.12.3"
  }
 },
 "nbformat": 4,
 "nbformat_minor": 5
}
