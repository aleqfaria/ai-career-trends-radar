{
 "cells": [
  {
   "cell_type": "code",
   "execution_count": 2,
   "id": "1aade330-1ab0-4f5b-86d5-113304fb47e9",
   "metadata": {},
   "outputs": [
    {
     "name": "stdout",
     "output_type": "stream",
     "text": [
      "[LOAD] CSV salvo com sucesso: data/insights_openai.csv\n",
      "[LOAD] JSON salvo com sucesso: data/insights_openai.json\n",
      "[LOAD] CSV salvo com sucesso: data/google_trends_ai_jobs_clean.csv\n"
     ]
    }
   ],
   "source": [
    "from etl.transform import markdown_to_dataframe, transform_google_trends\n",
    "from etl.load import save_dataframe\n",
    "\n",
    "# Transforma os dados\n",
    "df_insights = markdown_to_dataframe(\"data/insights_openai_raw.md\")\n",
    "df_trends = transform_google_trends(\"data/google_trends_ai_jobs.csv\")\n",
    "\n",
    "# Salva os arquivos nos dois formatos\n",
    "save_dataframe(df_insights, \"data/insights_openai.csv\", format=\"csv\")\n",
    "save_dataframe(df_insights, \"data/insights_openai.json\", format=\"json\")\n",
    "save_dataframe(df_trends, \"data/google_trends_ai_jobs_clean.csv\", format=\"csv\")"
   ]
  },
  {
   "cell_type": "code",
   "execution_count": null,
   "id": "a56bc68a-afd3-4561-aab5-d984c5e1eaa3",
   "metadata": {},
   "outputs": [],
   "source": []
  }
 ],
 "metadata": {
  "kernelspec": {
   "display_name": "Python 3 (ipykernel)",
   "language": "python",
   "name": "python3"
  },
  "language_info": {
   "codemirror_mode": {
    "name": "ipython",
    "version": 3
   },
   "file_extension": ".py",
   "mimetype": "text/x-python",
   "name": "python",
   "nbconvert_exporter": "python",
   "pygments_lexer": "ipython3",
   "version": "3.12.3"
  }
 },
 "nbformat": 4,
 "nbformat_minor": 5
}
