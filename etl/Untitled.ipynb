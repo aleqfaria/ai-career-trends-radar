{
 "cells": [
  {
   "cell_type": "code",
   "execution_count": 2,
   "id": "4a9be9d6-790a-41c2-bbe9-0ae86211cb88",
   "metadata": {},
   "outputs": [
    {
     "ename": "FileNotFoundError",
     "evalue": "[Errno 2] No such file or directory: 'data/insights_openai_raw.md'",
     "output_type": "error",
     "traceback": [
      "\u001b[31m---------------------------------------------------------------------------\u001b[39m",
      "\u001b[31mFileNotFoundError\u001b[39m                         Traceback (most recent call last)",
      "\u001b[36mCell\u001b[39m\u001b[36m \u001b[39m\u001b[32mIn[2]\u001b[39m\u001b[32m, line 5\u001b[39m\n\u001b[32m      2\u001b[39m \u001b[38;5;28;01mfrom\u001b[39;00m\u001b[38;5;250m \u001b[39m\u001b[34;01mload\u001b[39;00m\u001b[38;5;250m \u001b[39m\u001b[38;5;28;01mimport\u001b[39;00m save_dataframe\n\u001b[32m      4\u001b[39m \u001b[38;5;66;03m# Transforma os dados\u001b[39;00m\n\u001b[32m----> \u001b[39m\u001b[32m5\u001b[39m df_insights = \u001b[43mmarkdown_to_dataframe\u001b[49m\u001b[43m(\u001b[49m\u001b[33;43m\"\u001b[39;49m\u001b[33;43mdata/insights_openai_raw.md\u001b[39;49m\u001b[33;43m\"\u001b[39;49m\u001b[43m)\u001b[49m\n\u001b[32m      6\u001b[39m df_trends = transform_google_trends(\u001b[33m\"\u001b[39m\u001b[33mdata/google_trends_ai_jobs.csv\u001b[39m\u001b[33m\"\u001b[39m)\n\u001b[32m      8\u001b[39m \u001b[38;5;66;03m# Salva os arquivos nos dois formatos\u001b[39;00m\n",
      "\u001b[36mFile \u001b[39m\u001b[32m~/projeto_carreira/ai-carrer-trends-radar/etl/transform.py:8\u001b[39m, in \u001b[36mmarkdown_to_dataframe\u001b[39m\u001b[34m(markdown_path)\u001b[39m\n\u001b[32m      4\u001b[39m \u001b[38;5;28;01mdef\u001b[39;00m\u001b[38;5;250m \u001b[39m\u001b[34mmarkdown_to_dataframe\u001b[39m(markdown_path: \u001b[38;5;28mstr\u001b[39m) -> pd.DataFrame:\n\u001b[32m      5\u001b[39m \u001b[38;5;250m    \u001b[39m\u001b[33;03m\"\"\"\u001b[39;00m\n\u001b[32m      6\u001b[39m \u001b[33;03m    Converte um arquivo Markdown (resposta do ChatGPT) em DataFrame.\u001b[39;00m\n\u001b[32m      7\u001b[39m \u001b[33;03m    \"\"\"\u001b[39;00m\n\u001b[32m----> \u001b[39m\u001b[32m8\u001b[39m     \u001b[38;5;28;01mwith\u001b[39;00m \u001b[38;5;28;43mopen\u001b[39;49m\u001b[43m(\u001b[49m\u001b[43mmarkdown_path\u001b[49m\u001b[43m,\u001b[49m\u001b[43m \u001b[49m\u001b[33;43m\"\u001b[39;49m\u001b[33;43mr\u001b[39;49m\u001b[33;43m\"\u001b[39;49m\u001b[43m,\u001b[49m\u001b[43m \u001b[49m\u001b[43mencoding\u001b[49m\u001b[43m=\u001b[49m\u001b[33;43m\"\u001b[39;49m\u001b[33;43mutf-8\u001b[39;49m\u001b[33;43m\"\u001b[39;49m\u001b[43m)\u001b[49m \u001b[38;5;28;01mas\u001b[39;00m f:\n\u001b[32m      9\u001b[39m         markdown_text = f.read()\n\u001b[32m     11\u001b[39m     \u001b[38;5;66;03m# Remove linha separadora tipo |----|----|\u001b[39;00m\n",
      "\u001b[31mFileNotFoundError\u001b[39m: [Errno 2] No such file or directory: 'data/insights_openai_raw.md'"
     ]
    }
   ],
   "source": [
    "from transform import markdown_to_dataframe, transform_google_trends\n",
    "from load import save_dataframe\n",
    "\n",
    "# Transforma os dados\n",
    "df_insights = markdown_to_dataframe(\"data/insights_openai_raw.md\")\n",
    "df_trends = transform_google_trends(\"data/google_trends_ai_jobs.csv\")\n",
    "\n",
    "# Salva os arquivos nos dois formatos\n",
    "save_dataframe(df_insights, \"data/insights_openai.csv\", format=\"csv\")\n",
    "save_dataframe(df_insights, \"data/insights_openai.json\", format=\"json\")\n",
    "save_dataframe(df_trends, \"data/google_trends_ai_jobs_clean.csv\", format=\"csv\")"
   ]
  },
  {
   "cell_type": "code",
   "execution_count": null,
   "id": "98464886-2a39-48b2-adf4-aa11379542eb",
   "metadata": {},
   "outputs": [],
   "source": []
  }
 ],
 "metadata": {
  "kernelspec": {
   "display_name": "Python 3 (ipykernel)",
   "language": "python",
   "name": "python3"
  },
  "language_info": {
   "codemirror_mode": {
    "name": "ipython",
    "version": 3
   },
   "file_extension": ".py",
   "mimetype": "text/x-python",
   "name": "python",
   "nbconvert_exporter": "python",
   "pygments_lexer": "ipython3",
   "version": "3.12.3"
  }
 },
 "nbformat": 4,
 "nbformat_minor": 5
}
