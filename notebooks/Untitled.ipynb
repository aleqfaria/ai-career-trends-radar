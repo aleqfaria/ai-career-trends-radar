{
 "cells": [
  {
   "cell_type": "code",
   "execution_count": 1,
   "id": "78d23451-e359-44cc-8060-d90ee87bedb7",
   "metadata": {},
   "outputs": [
    {
     "ename": "ModuleNotFoundError",
     "evalue": "No module named 'etl'",
     "output_type": "error",
     "traceback": [
      "\u001b[31m---------------------------------------------------------------------------\u001b[39m",
      "\u001b[31mModuleNotFoundError\u001b[39m                       Traceback (most recent call last)",
      "\u001b[36mCell\u001b[39m\u001b[36m \u001b[39m\u001b[32mIn[1]\u001b[39m\u001b[32m, line 1\u001b[39m\n\u001b[32m----> \u001b[39m\u001b[32m1\u001b[39m \u001b[38;5;28;01mfrom\u001b[39;00m\u001b[38;5;250m \u001b[39m\u001b[34;01metl\u001b[39;00m\u001b[34;01m.\u001b[39;00m\u001b[34;01mextract\u001b[39;00m\u001b[38;5;250m \u001b[39m\u001b[38;5;28;01mimport\u001b[39;00m extract_google_trends, extract_chatgpt_insights\n\u001b[32m      3\u001b[39m extract_google_trends()\n\u001b[32m      4\u001b[39m extract_chatgpt_insights()\n",
      "\u001b[31mModuleNotFoundError\u001b[39m: No module named 'etl'"
     ]
    }
   ],
   "source": [
    "from etl.extract import extract_google_trends, extract_chatgpt_insights\n",
    "\n",
    "extract_google_trends()\n",
    "extract_chatgpt_insights()"
   ]
  },
  {
   "cell_type": "code",
   "execution_count": null,
   "id": "aa4200e0-335a-4f1c-8581-6c5899454a72",
   "metadata": {},
   "outputs": [],
   "source": []
  }
 ],
 "metadata": {
  "kernelspec": {
   "display_name": "Python 3 (ipykernel)",
   "language": "python",
   "name": "python3"
  },
  "language_info": {
   "codemirror_mode": {
    "name": "ipython",
    "version": 3
   },
   "file_extension": ".py",
   "mimetype": "text/x-python",
   "name": "python",
   "nbconvert_exporter": "python",
   "pygments_lexer": "ipython3",
   "version": "3.12.3"
  }
 },
 "nbformat": 4,
 "nbformat_minor": 5
}
