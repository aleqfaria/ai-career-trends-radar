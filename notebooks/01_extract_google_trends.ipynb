{
 "cells": [
  {
   "cell_type": "code",
   "execution_count": 1,
   "id": "4a997571-1fe6-4bf3-aaef-6de3d4fb951b",
   "metadata": {},
   "outputs": [
    {
     "name": "stdout",
     "output_type": "stream",
     "text": [
      "Collecting pytrends\n",
      "  Downloading pytrends-4.9.2-py3-none-any.whl.metadata (13 kB)\n",
      "Requirement already satisfied: requests>=2.0 in /home/ale/projeto_carreira/ai-carrer-trends-radar/venv/lib/python3.12/site-packages (from pytrends) (2.32.3)\n",
      "Requirement already satisfied: pandas>=0.25 in /home/ale/projeto_carreira/ai-carrer-trends-radar/venv/lib/python3.12/site-packages (from pytrends) (2.2.3)\n",
      "Collecting lxml (from pytrends)\n",
      "  Downloading lxml-5.4.0-cp312-cp312-manylinux_2_28_x86_64.whl.metadata (3.5 kB)\n",
      "Requirement already satisfied: numpy>=1.26.0 in /home/ale/projeto_carreira/ai-carrer-trends-radar/venv/lib/python3.12/site-packages (from pandas>=0.25->pytrends) (2.2.6)\n",
      "Requirement already satisfied: python-dateutil>=2.8.2 in /home/ale/projeto_carreira/ai-carrer-trends-radar/venv/lib/python3.12/site-packages (from pandas>=0.25->pytrends) (2.9.0.post0)\n",
      "Requirement already satisfied: pytz>=2020.1 in /home/ale/projeto_carreira/ai-carrer-trends-radar/venv/lib/python3.12/site-packages (from pandas>=0.25->pytrends) (2025.2)\n",
      "Requirement already satisfied: tzdata>=2022.7 in /home/ale/projeto_carreira/ai-carrer-trends-radar/venv/lib/python3.12/site-packages (from pandas>=0.25->pytrends) (2025.2)\n",
      "Requirement already satisfied: charset-normalizer<4,>=2 in /home/ale/projeto_carreira/ai-carrer-trends-radar/venv/lib/python3.12/site-packages (from requests>=2.0->pytrends) (3.4.2)\n",
      "Requirement already satisfied: idna<4,>=2.5 in /home/ale/projeto_carreira/ai-carrer-trends-radar/venv/lib/python3.12/site-packages (from requests>=2.0->pytrends) (3.10)\n",
      "Requirement already satisfied: urllib3<3,>=1.21.1 in /home/ale/projeto_carreira/ai-carrer-trends-radar/venv/lib/python3.12/site-packages (from requests>=2.0->pytrends) (2.4.0)\n",
      "Requirement already satisfied: certifi>=2017.4.17 in /home/ale/projeto_carreira/ai-carrer-trends-radar/venv/lib/python3.12/site-packages (from requests>=2.0->pytrends) (2025.4.26)\n",
      "Requirement already satisfied: six>=1.5 in /home/ale/projeto_carreira/ai-carrer-trends-radar/venv/lib/python3.12/site-packages (from python-dateutil>=2.8.2->pandas>=0.25->pytrends) (1.17.0)\n",
      "Downloading pytrends-4.9.2-py3-none-any.whl (15 kB)\n",
      "Downloading lxml-5.4.0-cp312-cp312-manylinux_2_28_x86_64.whl (5.0 MB)\n",
      "\u001b[2K   \u001b[90m━━━━━━━━━━━━━━━━━━━━━━━━━━━━━━━━━━━━━━━━\u001b[0m \u001b[32m5.0/5.0 MB\u001b[0m \u001b[31m41.1 MB/s\u001b[0m eta \u001b[36m0:00:00\u001b[0ma \u001b[36m0:00:01\u001b[0m\n",
      "\u001b[?25hInstalling collected packages: lxml, pytrends\n",
      "Successfully installed lxml-5.4.0 pytrends-4.9.2\n",
      "Note: you may need to restart the kernel to use updated packages.\n"
     ]
    }
   ],
   "source": [
    "pip install pytrends"
   ]
  },
  {
   "cell_type": "code",
   "execution_count": 6,
   "id": "2ff2aab4-e0f9-4f3d-a2e0-cd0808fc31e7",
   "metadata": {},
   "outputs": [
    {
     "name": "stdout",
     "output_type": "stream",
     "text": [
      "            data engineer  data engineering  big data engineer  ai engineer  \\\n",
      "date                                                                          \n",
      "2024-06-02             22                15                  1            8   \n",
      "2024-06-09             22                13                  0            9   \n",
      "2024-06-16             22                14                  0            8   \n",
      "2024-06-23             23                14                  0            9   \n",
      "2024-06-30             20                12                  0            7   \n",
      "\n",
      "            machine learning  \n",
      "date                          \n",
      "2024-06-02                73  \n",
      "2024-06-09                75  \n",
      "2024-06-16                68  \n",
      "2024-06-23                78  \n",
      "2024-06-30                68  \n"
     ]
    },
    {
     "name": "stderr",
     "output_type": "stream",
     "text": [
      "/home/ale/projeto_carreira/ai-carrer-trends-radar/venv/lib/python3.12/site-packages/pytrends/request.py:260: FutureWarning: Downcasting object dtype arrays on .fillna, .ffill, .bfill is deprecated and will change in a future version. Call result.infer_objects(copy=False) instead. To opt-in to the future behavior, set `pd.set_option('future.no_silent_downcasting', True)`\n",
      "  df = df.fillna(False)\n"
     ]
    }
   ],
   "source": [
    "from pytrends.request import TrendReq\n",
    "import pandas as pd\n",
    "\n",
    "# Conexão com o Google Trends\n",
    "pytrends = TrendReq(hl=\"en-US\", tz=360)\n",
    "\n",
    "# Termos para busca\n",
    "keywords = [\"data engineer\",\"data engineering\", \"big data engineer\", \n",
    "    \"ai engineer\",\"machine learning\"]\n",
    "\n",
    "# Construindo a requisição\n",
    "pytrends.build_payload(keywords, cat=0, timeframe=\"today 12-m\", geo=\"US\", gprop=\"\")\n",
    "\n",
    "# Coletando interesse ao longo do tempo\n",
    "data = pytrends.interest_over_time()\n",
    "\n",
    "# Filtrando e visualizando\n",
    "data = data.drop(columns=\"isPartial\")\n",
    "print(data.head())\n",
    "\n",
    "# Salvando localmente\n",
    "data.to_csv(\"../data/google_trends_ai_jobs.csv\")"
   ]
  },
  {
   "cell_type": "code",
   "execution_count": null,
   "id": "10b7c681-1d3d-4d5f-b32a-30cebcb11a0a",
   "metadata": {},
   "outputs": [],
   "source": []
  }
 ],
 "metadata": {
  "kernelspec": {
   "display_name": "Python 3 (ipykernel)",
   "language": "python",
   "name": "python3"
  },
  "language_info": {
   "codemirror_mode": {
    "name": "ipython",
    "version": 3
   },
   "file_extension": ".py",
   "mimetype": "text/x-python",
   "name": "python",
   "nbconvert_exporter": "python",
   "pygments_lexer": "ipython3",
   "version": "3.12.3"
  }
 },
 "nbformat": 4,
 "nbformat_minor": 5
}
